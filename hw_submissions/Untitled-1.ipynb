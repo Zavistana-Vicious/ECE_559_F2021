{
 "cells": [
  {
   "cell_type": "code",
   "execution_count": 26,
   "metadata": {},
   "outputs": [
    {
     "name": "stdout",
     "output_type": "stream",
     "text": [
      "[[ 2 -1]\n",
      " [-1  3]]\n"
     ]
    }
   ],
   "source": [
    "import numpy as np\n",
    "\n",
    "W = [[2, -1] , [-1, 3]]\n",
    "W=np.array(W)\n",
    "print(W)\n",
    "\n",
    "theta = np.array([-4, 2])"
   ]
  },
  {
   "cell_type": "code",
   "execution_count": 27,
   "metadata": {},
   "outputs": [
    {
     "name": "stdout",
     "output_type": "stream",
     "text": [
      "[-3  4]\n"
     ]
    }
   ],
   "source": [
    "s = np.array([1, 1])\n",
    "\n",
    "\n",
    "y = np.matmul(W, s) + theta\n",
    "print(y)"
   ]
  },
  {
   "cell_type": "code",
   "execution_count": 28,
   "metadata": {},
   "outputs": [
    {
     "data": {
      "text/plain": [
       "array([1, 2])"
      ]
     },
     "execution_count": 28,
     "metadata": {},
     "output_type": "execute_result"
    }
   ],
   "source": [
    "np.matmul(W, s)"
   ]
  }
 ],
 "metadata": {
  "interpreter": {
   "hash": "7b3553381ac56aca5e5dabd8a3d6968ccc859300b45647a04fb19edef8039ee6"
  },
  "kernelspec": {
   "display_name": "Python 3.8.12 64-bit ('PUF_ENV': conda)",
   "language": "python",
   "name": "python3"
  },
  "language_info": {
   "codemirror_mode": {
    "name": "ipython",
    "version": 3
   },
   "file_extension": ".py",
   "mimetype": "text/x-python",
   "name": "python",
   "nbconvert_exporter": "python",
   "pygments_lexer": "ipython3",
   "version": "3.8.12"
  },
  "orig_nbformat": 4
 },
 "nbformat": 4,
 "nbformat_minor": 2
}
